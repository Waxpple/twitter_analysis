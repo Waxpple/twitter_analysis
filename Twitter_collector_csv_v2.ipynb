{
  "nbformat": 4,
  "nbformat_minor": 0,
  "metadata": {
    "colab": {
      "name": "Untitled17.ipynb",
      "provenance": [],
      "include_colab_link": true
    },
    "kernelspec": {
      "name": "python3",
      "display_name": "Python 3"
    }
  },
  "cells": [
    {
      "cell_type": "markdown",
      "metadata": {
        "id": "view-in-github",
        "colab_type": "text"
      },
      "source": [
        "<a href=\"https://colab.research.google.com/github/Waxpple/twitter_analysis/blob/master/Twitter_collector_csv_v2.ipynb\" target=\"_parent\"><img src=\"https://colab.research.google.com/assets/colab-badge.svg\" alt=\"Open In Colab\"/></a>"
      ]
    },
    {
      "cell_type": "code",
      "metadata": {
        "id": "k9mZmT9aPM9F",
        "colab_type": "code",
        "colab": {
          "base_uri": "https://localhost:8080/",
          "height": 326
        },
        "outputId": "8b20b99b-27c8-4574-d0e5-0d1b1c81de0c"
      },
      "source": [
        "import sys\n",
        "import tweepy\n",
        "import csv\n",
        "\n",
        "#pass security information to variables\n",
        "consumer_key=\"5QKampPkKioPJcx3xW7jG3X5s\"\n",
        "consumer_secret=\"NAoueL0lVTZ2MauQ0aGTG3yhn4NPWX5XaUdhk9Acfha4FkYyzp\"\n",
        "access_key = \"2285912300-4pqQV4GElfXqIaBlY8G9E8DmzgYODP9AHlzc1fe\"\n",
        "access_secret = \"NDMtpArewyIBJZYsZzaLgfY1rp5HuL8rNoW6yaFXqs3VX\"\n",
        "\n",
        "\n",
        "#use variables to access twitter\n",
        "auth = tweepy.OAuthHandler(consumer_key, consumer_secret)\n",
        "auth.set_access_token(access_key, access_secret)\n",
        "api = tweepy.API(auth)\n",
        "\n",
        "#create an object called 'customStreamListener'\n",
        "\n",
        "class CustomStreamListener(tweepy.StreamListener):\n",
        "\n",
        "    def on_status(self, status):\n",
        "        print (status.author.screen_name, status.created_at, status.text)\n",
        "        # Writing status data\n",
        "        with open('OutputStreaming.txt', 'a') as f:\n",
        "            writer = csv.writer(f)\n",
        "            writer.writerow([status.text])\n",
        "\n",
        "\n",
        "    def on_error(self, status_code):\n",
        "        print (sys.stderr, 'Encountered error with status code:', status_code)\n",
        "        return True # Don't kill the stream\n",
        "\n",
        "    def on_timeout(self):\n",
        "        print ( sys.stderr, 'Timeout...')\n",
        "        return True # Don't kill the stream\n",
        "\n",
        "# Writing csv titles\n",
        "with open('OutputStreaming.txt', 'w') as f:\n",
        "    writer = csv.writer(f)\n",
        "    writer.writerow(['Text'])\n",
        "\n",
        "streamingAPI = tweepy.streaming.Stream(auth, CustomStreamListener())\n",
        "streamingAPI.filter(languages=[\"en\"],track=['starbucks'])"
      ],
      "execution_count": 0,
      "outputs": [
        {
          "output_type": "stream",
          "text": [
            "kiaraeshi 2019-12-11 11:03:47 RT @argumentwinner: not that anybody ever doubted me, but it turns out i was absolutely right about this and it was a plot to get someone f…\n",
            "MuhdHazwannn 2019-12-11 11:03:51 RT @bombanta: Starbucks putting my tweet in their stores \n",
            "https://t.co/bYmJZGKJi0 https://t.co/gk1fg8M06z\n",
            "RayInBerkeley 2019-12-11 11:03:54 RT @montresaurusrex: @JordanUhl I went into a Starbucks wearing a crucifix and the manager slapped me. Everyone took turns yelling in my fa…\n",
            "Servant4Gddss 2019-12-11 11:03:56 RT @alexxia_m: MORNING LOSERS !! 💖💖\n",
            "\n",
            "(And my beautiful ladies)\n",
            "\n",
            "Get to spoiling me &amp; send for Starbucks. \n",
            "\n",
            "I’m fucking flawless🔥\n",
            "\n",
            "#cuck #le…\n",
            "nrhannaa_ 2019-12-11 11:04:11 RT @sabrinajmldn: I hope my future bf also drinks starbucks too♡ https://t.co/E45II25Ldc\n",
            "DavidFurrow1 2019-12-11 11:04:21 RT @Cocoa_Bean10: Now do Muslim religious greetings comrade McPipsqueak\n",
            "\n",
            " ... Drinking Barney’s coffee while I wait https://t.co/joCtZmaQwM\n"
          ],
          "name": "stdout"
        }
      ]
    }
  ]
}